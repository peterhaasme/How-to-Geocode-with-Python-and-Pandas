{
  "nbformat": 4,
  "nbformat_minor": 0,
  "metadata": {
    "colab": {
      "name": "How to Geocode with Python and Pandas",
      "provenance": [],
      "collapsed_sections": [],
      "authorship_tag": "ABX9TyPeIVaafALJtjdG/ZymQrwz",
      "include_colab_link": true
    },
    "kernelspec": {
      "name": "python3",
      "display_name": "Python 3"
    }
  },
  "cells": [
    {
      "cell_type": "markdown",
      "metadata": {
        "id": "view-in-github",
        "colab_type": "text"
      },
      "source": [
        "<a href=\"https://colab.research.google.com/github/peterhaasme/How-to-Geocode-with-Python-and-Pandas/blob/master/How_to_Geocode_with_Python_and_Pandas.ipynb\" target=\"_parent\"><img src=\"https://colab.research.google.com/assets/colab-badge.svg\" alt=\"Open In Colab\"/></a>"
      ]
    },
    {
      "cell_type": "markdown",
      "metadata": {
        "id": "0kSQC321dRfH",
        "colab_type": "text"
      },
      "source": [
        "Are you running a data analysis on a dataset that has physical addresses? Would you like to plot those on a map? You'll need to *geocode* them to generate their latitude and longitude co-ordinates."
      ]
    },
    {
      "cell_type": "markdown",
      "metadata": {
        "id": "bLG289qLKUSO",
        "colab_type": "text"
      },
      "source": [
        "## How to look up the geocode for a single address"
      ]
    },
    {
      "cell_type": "markdown",
      "metadata": {
        "id": "iO71_r5YPQ-V",
        "colab_type": "text"
      },
      "source": [
        "You'll be using [geopy](https://geopy.readthedocs.io/en/stable/#module-geopy.distance), a Python client for several popular geocoding webservices. Start by installing geopy."
      ]
    },
    {
      "cell_type": "code",
      "metadata": {
        "id": "SC2FmfF-IgTg",
        "colab_type": "code",
        "outputId": "7b2cdb7d-c659-456e-af9b-b92908a023cb",
        "colab": {
          "base_uri": "https://localhost:8080/",
          "height": 53
        }
      },
      "source": [
        "!pip install geopy"
      ],
      "execution_count": 1,
      "outputs": [
        {
          "output_type": "stream",
          "text": [
            "Requirement already satisfied: geopy in /usr/local/lib/python3.6/dist-packages (1.17.0)\n",
            "Requirement already satisfied: geographiclib<2,>=1.49 in /usr/local/lib/python3.6/dist-packages (from geopy) (1.50)\n"
          ],
          "name": "stdout"
        }
      ]
    },
    {
      "cell_type": "markdown",
      "metadata": {
        "id": "QZhl3bowPXPa",
        "colab_type": "text"
      },
      "source": [
        "Import the library you just installed. You'll be using the [Nominatim](https://nominatim.org/release-docs/develop/api/Overview/) geocoding service. There are many geocoding services available, but this one does not require an API key to access."
      ]
    },
    {
      "cell_type": "code",
      "metadata": {
        "id": "2el6di9NPg8G",
        "colab_type": "code",
        "colab": {}
      },
      "source": [
        "from geopy.geocoders import Nominatim"
      ],
      "execution_count": 0,
      "outputs": []
    },
    {
      "cell_type": "markdown",
      "metadata": {
        "id": "HLRhQKVNPyp4",
        "colab_type": "text"
      },
      "source": [
        "Create a geolocator object using the [Openstreet Nominatim API](https://nominatim.org/release-docs/develop/api/Overview/). It's a good idea to increase the default timeout setting from 1s to 10s so that you don't get a TimedOut exception. You'll also need to enter a name (any name) for the 'user_agent' attribute.\n",
        "\n",
        "To test out the geolocator, pass it an address. Print out the location object. Then print the latitude and longitude from the object."
      ]
    },
    {
      "cell_type": "code",
      "metadata": {
        "id": "BwZpjcHqORTz",
        "colab_type": "code",
        "outputId": "b268b5b2-b951-46a9-8203-61b538bac143",
        "colab": {
          "base_uri": "https://localhost:8080/",
          "height": 53
        }
      },
      "source": [
        "geolocator = Nominatim(timeout=10, user_agent = \"myGeolocator\")\n",
        "location = geolocator.geocode('4550 Kester Mill Rd,Winston-Salem,NC')\n",
        "print(location)\n",
        "print((location.latitude, location.longitude))"
      ],
      "execution_count": 5,
      "outputs": [
        {
          "output_type": "stream",
          "text": [
            "Walmart Supercenter, 4550, Kester Mill Road, Salem Woods, Winston-Salem, Forsyth County, North Carolina, 27103, United States of America\n",
            "(36.067591, -80.337243)\n"
          ],
          "name": "stdout"
        }
      ]
    },
    {
      "cell_type": "markdown",
      "metadata": {
        "id": "5as4u6jERr1Q",
        "colab_type": "text"
      },
      "source": [
        "## How to calculate the distance between two addresses"
      ]
    },
    {
      "cell_type": "markdown",
      "metadata": {
        "id": "0RFBjqrER9IK",
        "colab_type": "text"
      },
      "source": [
        "Another helpful tool is the ability to [calculate the geodesic distance](https://geopy.readthedocs.io/en/stable/#module-geopy.distance) between two adresses. You can do this by loading the Geopy distance module."
      ]
    },
    {
      "cell_type": "code",
      "metadata": {
        "id": "hxkDRhqfR3ek",
        "colab_type": "code",
        "colab": {}
      },
      "source": [
        "from geopy import distance"
      ],
      "execution_count": 0,
      "outputs": []
    },
    {
      "cell_type": "markdown",
      "metadata": {
        "id": "vD2piRmWWRkW",
        "colab_type": "text"
      },
      "source": [
        "Geocode the addresses. Extract the latitude and longitude as a tuple. Pass to the distance calculator and calculate distance."
      ]
    },
    {
      "cell_type": "code",
      "metadata": {
        "id": "hCBjoOB-SAWK",
        "colab_type": "code",
        "outputId": "f5de9faf-e1a3-4069-ecc3-fa1d730aca76",
        "colab": {
          "base_uri": "https://localhost:8080/",
          "height": 53
        }
      },
      "source": [
        "location_1 = geolocator.geocode('11415 Quaker Ave,Lubbock,TX')\n",
        "location_1_gps = (location_1.latitude, location_1.longitude)\n",
        "location_2 = geolocator.geocode('4550 Kester Mill Rd,Winston-Salem,NC')\n",
        "location_2_gps = (location_2.latitude, location_2.longitude)\n",
        "# distance in miles\n",
        "distance_calc_mi = distance.distance(location_1_gps, location_2_gps).miles\n",
        "print(distance_calc_mi)\n",
        "# distance in kilometers\n",
        "distance_calc_km = distance.distance(location_1_gps, location_2_gps).km\n",
        "print(distance_calc_km)"
      ],
      "execution_count": 7,
      "outputs": [
        {
          "output_type": "stream",
          "text": [
            "1236.7167978105956\n",
            "1990.3027582556954\n"
          ],
          "name": "stdout"
        }
      ]
    },
    {
      "cell_type": "markdown",
      "metadata": {
        "id": "6XlusOfko8QP",
        "colab_type": "text"
      },
      "source": [
        "## How to geocode in a pandas DataFrame"
      ]
    },
    {
      "cell_type": "markdown",
      "metadata": {
        "id": "KpHgD9iMr5jd",
        "colab_type": "text"
      },
      "source": [
        "Do you have more than one address? Are you looking to analyze these in a pandas DataFrame? No problem. Start by loading the pandas module."
      ]
    },
    {
      "cell_type": "code",
      "metadata": {
        "id": "SKNRwDyCpCtG",
        "colab_type": "code",
        "colab": {}
      },
      "source": [
        "import pandas as pd"
      ],
      "execution_count": 0,
      "outputs": []
    },
    {
      "cell_type": "markdown",
      "metadata": {
        "id": "hW33eDBpr1oj",
        "colab_type": "text"
      },
      "source": [
        "Upload your CSV to Google Colab. You can find the example file for this article [here](https://raw.githubusercontent.com/peterhaasme/How-to-Geocode-with-Python-and-Pandas/master/sample_addresses.csv)."
      ]
    },
    {
      "cell_type": "code",
      "metadata": {
        "id": "RNFqkriXsEkT",
        "colab_type": "code",
        "colab": {}
      },
      "source": [
        "from google.colab import files\n",
        "\n",
        "uploaded = files.upload()\n",
        "\n",
        "for fn in uploaded.keys():\n",
        "  print('User uploaded file \"{name}\" with length {length} bytes'.format(\n",
        "      name=fn, length=len(uploaded[fn])))"
      ],
      "execution_count": 0,
      "outputs": []
    },
    {
      "cell_type": "markdown",
      "metadata": {
        "id": "VzzYohaPsdKr",
        "colab_type": "text"
      },
      "source": [
        "Make a DataFrame from the CSV."
      ]
    },
    {
      "cell_type": "code",
      "metadata": {
        "id": "X2etHEvYpHnS",
        "colab_type": "code",
        "outputId": "c390220e-3863-4e8d-9716-ac6d5e015463",
        "colab": {
          "base_uri": "https://localhost:8080/",
          "height": 108
        }
      },
      "source": [
        "df = pd.read_csv('sample_addresses.csv')\n",
        "print(df.head())"
      ],
      "execution_count": 9,
      "outputs": [
        {
          "output_type": "stream",
          "text": [
            "               address           city state    zip\n",
            "0  4550 Kester Mill Rd  Winston-Salem    NC  27103\n",
            "1     11415 Quaker Ave        Lubbock    TX  79424\n",
            "2   8885 N Florida Ave          Tampa    FL  33604\n",
            "3   16375 Merchants Ln    King George    VA  22485\n"
          ],
          "name": "stdout"
        }
      ]
    },
    {
      "cell_type": "markdown",
      "metadata": {
        "id": "veUq8v1Ut3Nz",
        "colab_type": "text"
      },
      "source": [
        "Add a column that combines the address, city, state, and zip code into one line. You need to do this so you can pass it to the geolocator."
      ]
    },
    {
      "cell_type": "code",
      "metadata": {
        "id": "dCHItxUjuDMn",
        "colab_type": "code",
        "colab": {}
      },
      "source": [
        "df['full_address'] = df.address + \",\" + df.city + \",\" + df.state\n",
        "print(df.head())"
      ],
      "execution_count": 0,
      "outputs": []
    },
    {
      "cell_type": "markdown",
      "metadata": {
        "id": "Vaxq-fYHGI4h",
        "colab_type": "text"
      },
      "source": [
        "Add a column with the geocodes"
      ]
    },
    {
      "cell_type": "code",
      "metadata": {
        "id": "ys4twLWeGIex",
        "colab_type": "code",
        "outputId": "c1b205cc-3f1d-4376-d1f2-f320e06584ef",
        "colab": {
          "base_uri": "https://localhost:8080/",
          "height": 144
        }
      },
      "source": [
        "df['gcode'] = df.full_address.apply(geolocator.geocode)\n",
        "print(df)"
      ],
      "execution_count": 12,
      "outputs": [
        {
          "output_type": "stream",
          "text": [
            "               address  ...                                              gcode\n",
            "0  4550 Kester Mill Rd  ...  (Walmart Supercenter, 4550, Kester Mill Road, ...\n",
            "1     11415 Quaker Ave  ...  (Walmart Supercenter, 11415, Quaker Avenue, Ha...\n",
            "2   8885 N Florida Ave  ...  (Walmart Neighborhood Market, 8885, North Flor...\n",
            "3   16375 Merchants Ln  ...  (Walmart Supercenter, 16375, Merchants Lane, K...\n",
            "\n",
            "[4 rows x 6 columns]\n"
          ],
          "name": "stdout"
        }
      ]
    },
    {
      "cell_type": "markdown",
      "metadata": {
        "id": "4EpED7mvc1Wj",
        "colab_type": "text"
      },
      "source": [
        "Add columns for latitude and longitude"
      ]
    },
    {
      "cell_type": "code",
      "metadata": {
        "id": "hzbPtRDhfSrq",
        "colab_type": "code",
        "outputId": "72c9358d-d7cc-40c6-ca56-6cf82306d13a",
        "colab": {
          "base_uri": "https://localhost:8080/",
          "height": 144
        }
      },
      "source": [
        "df['lat'] = [g.latitude for g in df.gcode]\n",
        "df['long'] = [g.longitude for g in df.gcode]\n",
        "print(df)"
      ],
      "execution_count": 13,
      "outputs": [
        {
          "output_type": "stream",
          "text": [
            "               address           city  ...        lat        long\n",
            "0  4550 Kester Mill Rd  Winston-Salem  ...  36.067591  -80.337243\n",
            "1     11415 Quaker Ave        Lubbock  ...  33.489513 -101.901833\n",
            "2   8885 N Florida Ave          Tampa  ...  28.032076  -82.457679\n",
            "3   16375 Merchants Ln    King George  ...  38.351884  -77.057379\n",
            "\n",
            "[4 rows x 8 columns]\n"
          ],
          "name": "stdout"
        }
      ]
    },
    {
      "cell_type": "markdown",
      "metadata": {
        "id": "8O63ZWYaijIA",
        "colab_type": "text"
      },
      "source": [
        "## How to map the addresses in your pandas DataFrame using Folium"
      ]
    },
    {
      "cell_type": "markdown",
      "metadata": {
        "id": "fSDi8Mvni0Xt",
        "colab_type": "text"
      },
      "source": [
        "Now that you have the latitude and longitude, you can plot your addresses using [Folium](https://python-visualization.github.io/folium/), a python library for making interactive maps.\n",
        "\n",
        "Start by installing and loading the library."
      ]
    },
    {
      "cell_type": "code",
      "metadata": {
        "id": "6vnRHhaRimOd",
        "colab_type": "code",
        "outputId": "d1ddc9e9-ce05-4ea9-aa13-47afeeefa187",
        "colab": {
          "base_uri": "https://localhost:8080/",
          "height": 217
        }
      },
      "source": [
        "!pip install folium\n",
        "import folium"
      ],
      "execution_count": 14,
      "outputs": [
        {
          "output_type": "stream",
          "text": [
            "Requirement already satisfied: folium in /usr/local/lib/python3.6/dist-packages (0.8.3)\n",
            "Requirement already satisfied: numpy in /usr/local/lib/python3.6/dist-packages (from folium) (1.17.5)\n",
            "Requirement already satisfied: requests in /usr/local/lib/python3.6/dist-packages (from folium) (2.21.0)\n",
            "Requirement already satisfied: jinja2 in /usr/local/lib/python3.6/dist-packages (from folium) (2.10.3)\n",
            "Requirement already satisfied: six in /usr/local/lib/python3.6/dist-packages (from folium) (1.12.0)\n",
            "Requirement already satisfied: branca>=0.3.0 in /usr/local/lib/python3.6/dist-packages (from folium) (0.3.1)\n",
            "Requirement already satisfied: idna<2.9,>=2.5 in /usr/local/lib/python3.6/dist-packages (from requests->folium) (2.8)\n",
            "Requirement already satisfied: urllib3<1.25,>=1.21.1 in /usr/local/lib/python3.6/dist-packages (from requests->folium) (1.24.3)\n",
            "Requirement already satisfied: chardet<3.1.0,>=3.0.2 in /usr/local/lib/python3.6/dist-packages (from requests->folium) (3.0.4)\n",
            "Requirement already satisfied: certifi>=2017.4.17 in /usr/local/lib/python3.6/dist-packages (from requests->folium) (2019.11.28)\n",
            "Requirement already satisfied: MarkupSafe>=0.23 in /usr/local/lib/python3.6/dist-packages (from jinja2->folium) (1.1.1)\n"
          ],
          "name": "stdout"
        }
      ]
    },
    {
      "cell_type": "markdown",
      "metadata": {
        "id": "-Nlcxhop_1LS",
        "colab_type": "text"
      },
      "source": [
        "Create an empty map. Center it on a region that encompases your addresses. *Don't use map as a variable b/c it's reserved in Python.*"
      ]
    },
    {
      "cell_type": "code",
      "metadata": {
        "id": "YrbWS2b3_7cD",
        "colab_type": "code",
        "outputId": "66b36cb1-46e6-4fef-974d-46b5c656c08b",
        "colab": {
          "base_uri": "https://localhost:8080/",
          "height": 773
        }
      },
      "source": [
        "mapa = folium.Map(location=(36.104087829589844,-86.77576446533203), zoom_start=5)\n",
        "display(mapa)"
      ],
      "execution_count": 15,
      "outputs": [
        {
          "output_type": "display_data",
          "data": {
            "text/html": [
              "<div style=\"width:100%;\"><div style=\"position:relative;width:100%;height:0;padding-bottom:60%;\"><iframe src=\"data:text/html;charset=utf-8;base64,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\" style=\"position:absolute;width:100%;height:100%;left:0;top:0;border:none !important;\" allowfullscreen webkitallowfullscreen mozallowfullscreen></iframe></div></div>"
            ],
            "text/plain": [
              "<folium.folium.Map at 0x7f6eea64e048>"
            ]
          },
          "metadata": {
            "tags": []
          }
        }
      ]
    },
    {
      "cell_type": "markdown",
      "metadata": {
        "id": "mdv7Ivc1BTcE",
        "colab_type": "text"
      },
      "source": [
        "Add the geocoded locations to the map"
      ]
    },
    {
      "cell_type": "code",
      "metadata": {
        "id": "iOvl-TgaBm-G",
        "colab_type": "code",
        "outputId": "38d16457-7ef2-4ba1-a87a-5f73d165bcd6",
        "colab": {
          "base_uri": "https://localhost:8080/",
          "height": 773
        }
      },
      "source": [
        "for index, row in df.iterrows():\n",
        "  folium.Marker(location=(row['lat'],row['long'])).add_to(mapa)\n",
        "\n",
        "display(mapa)"
      ],
      "execution_count": 16,
      "outputs": [
        {
          "output_type": "display_data",
          "data": {
            "text/html": [
              "<div style=\"width:100%;\"><div style=\"position:relative;width:100%;height:0;padding-bottom:60%;\"><iframe src=\"data:text/html;charset=utf-8;base64,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\" style=\"position:absolute;width:100%;height:100%;left:0;top:0;border:none !important;\" allowfullscreen webkitallowfullscreen mozallowfullscreen></iframe></div></div>"
            ],
            "text/plain": [
              "<folium.folium.Map at 0x7f6eea64e048>"
            ]
          },
          "metadata": {
            "tags": []
          }
        }
      ]
    },
    {
      "cell_type": "markdown",
      "metadata": {
        "id": "I7ZzuwDGI9ru",
        "colab_type": "text"
      },
      "source": [
        "Congratulations, you've covered the basics of geocoding and mapping in Python. For more detailed and complex operations, be sure to read through the documentation for geopy and Folium."
      ]
    }
  ]
}